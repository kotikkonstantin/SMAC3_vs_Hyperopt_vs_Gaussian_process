{
 "cells": [
  {
   "cell_type": "markdown",
   "metadata": {},
   "source": [
    "# Задача, на которой будут тестироваться оптимизаторы:\n",
    "\n",
    "**Задача [\"Выход из он-лайн игры\"](http://mlbootcamp.ru/round/10/sandbox/) <- данные от туда же**"
   ]
  },
  {
   "cell_type": "code",
   "execution_count": 2,
   "metadata": {
    "collapsed": false
   },
   "outputs": [
    {
     "name": "stderr",
     "output_type": "stream",
     "text": [
      "/home/konstantin/program_files/anaconda3/lib/python3.5/site-packages/sklearn/cross_validation.py:44: DeprecationWarning: This module was deprecated in version 0.18 in favor of the model_selection module into which all the refactored classes and functions are moved. Also note that the interface of the new CV iterators are different from that of this module. This module will be removed in 0.20.\n",
      "  \"This module will be removed in 0.20.\", DeprecationWarning)\n"
     ]
    }
   ],
   "source": [
    "import pandas as pd\n",
    "import numpy as np\n",
    "import logging\n",
    "import os\n",
    "import inspect\n",
    "\n",
    "\n",
    "import gc\n",
    "from copy import deepcopy\n",
    "\n",
    "from xgboost import XGBClassifier\n",
    "from sklearn.model_selection import StratifiedKFold, cross_val_score\n",
    "\n",
    "from smac.configspace import ConfigurationSpace\n",
    "from ConfigSpace.hyperparameters import CategoricalHyperparameter, \\\n",
    "    UniformFloatHyperparameter, UniformIntegerHyperparameter\n",
    "\n",
    "from smac.tae.execute_func import ExecuteTAFuncDict\n",
    "from smac.scenario.scenario import Scenario\n",
    "from smac.facade.smac_facade import SMAC\n",
    "\n",
    "np.random.seed(1)"
   ]
  },
  {
   "cell_type": "code",
   "execution_count": 3,
   "metadata": {
    "collapsed": true
   },
   "outputs": [],
   "source": [
    "data = pd.read_csv('x_train.csv', sep = ';')"
   ]
  },
  {
   "cell_type": "code",
   "execution_count": 4,
   "metadata": {
    "collapsed": true
   },
   "outputs": [],
   "source": [
    "X_train = deepcopy(data)\n",
    "\n",
    "#целевая переменная\n",
    "y_train = pd.read_csv(\"y_train.csv\")\n",
    "y_train = y_train[\"target\"] "
   ]
  },
  {
   "cell_type": "code",
   "execution_count": 5,
   "metadata": {
    "collapsed": true
   },
   "outputs": [],
   "source": [
    "xgb = XGBClassifier()"
   ]
  },
  {
   "cell_type": "code",
   "execution_count": 6,
   "metadata": {
    "collapsed": true
   },
   "outputs": [],
   "source": [
    "kf = StratifiedKFold(n_splits = 5, shuffle = True, random_state = 241) #для кросс-валидации"
   ]
  },
  {
   "cell_type": "code",
   "execution_count": 7,
   "metadata": {
    "collapsed": false
   },
   "outputs": [
    {
     "data": {
      "text/plain": [
       "-0.38203842464869414"
      ]
     },
     "execution_count": 7,
     "metadata": {},
     "output_type": "execute_result"
    }
   ],
   "source": [
    "np.mean(cross_val_score(xgb, X_train, y_train, scoring=\"neg_log_loss\", cv = kf))"
   ]
  },
  {
   "cell_type": "markdown",
   "metadata": {},
   "source": [
    "### Тип суррогата: древовидные парзеновские оценщики"
   ]
  },
  {
   "cell_type": "code",
   "execution_count": 8,
   "metadata": {
    "collapsed": true
   },
   "outputs": [],
   "source": [
    "from hyperopt import fmin, tpe, hp, STATUS_OK, Trials"
   ]
  },
  {
   "cell_type": "code",
   "execution_count": 8,
   "metadata": {
    "collapsed": false
   },
   "outputs": [
    {
     "name": "stdout",
     "output_type": "stream",
     "text": [
      "new best: 0.388904560638 {'learning_rate': 0.6734661495636179, 'max_depth': 1, 'subsample': 0.6563538429180416, 'n_estimators': 667, 'min_child_weight': 4, 'gamma': 0.5829501037191249, 'colsample_bytree': 0.7529749029119877}\n",
      "1\n",
      "-----------------------------------------\n",
      "new best: 0.385458594157 {'learning_rate': 0.657389223410132, 'max_depth': 1, 'subsample': 0.5750125372935442, 'n_estimators': 117, 'min_child_weight': 2, 'gamma': 0.6610742775274993, 'colsample_bytree': 0.6983639344471162}\n",
      "2\n",
      "-----------------------------------------\n",
      "3\n",
      "-----------------------------------------\n",
      "4\n",
      "-----------------------------------------\n",
      "5\n",
      "-----------------------------------------\n",
      "6\n",
      "-----------------------------------------\n",
      "7\n",
      "-----------------------------------------\n",
      "8\n",
      "-----------------------------------------\n",
      "9\n",
      "-----------------------------------------\n",
      "10\n",
      "-----------------------------------------\n",
      "11\n",
      "-----------------------------------------\n",
      "12\n",
      "-----------------------------------------\n",
      "13\n",
      "-----------------------------------------\n",
      "14\n",
      "-----------------------------------------\n",
      "15\n",
      "-----------------------------------------\n",
      "16\n",
      "-----------------------------------------\n",
      "17\n",
      "-----------------------------------------\n",
      "18\n",
      "-----------------------------------------\n",
      "19\n",
      "-----------------------------------------\n",
      "20\n",
      "-----------------------------------------\n",
      "21\n",
      "-----------------------------------------\n",
      "22\n",
      "-----------------------------------------\n",
      "23\n",
      "-----------------------------------------\n",
      "24\n",
      "-----------------------------------------\n",
      "25\n",
      "-----------------------------------------\n",
      "26\n",
      "-----------------------------------------\n",
      "27\n",
      "-----------------------------------------\n",
      "28\n",
      "-----------------------------------------\n",
      "29\n",
      "-----------------------------------------\n",
      "30\n",
      "-----------------------------------------\n",
      "31\n",
      "-----------------------------------------\n",
      "32\n",
      "-----------------------------------------\n",
      "33\n",
      "-----------------------------------------\n",
      "34\n",
      "-----------------------------------------\n",
      "35\n",
      "-----------------------------------------\n",
      "36\n",
      "-----------------------------------------\n",
      "37\n",
      "-----------------------------------------\n",
      "38\n",
      "-----------------------------------------\n",
      "new best: 0.383716020408 {'learning_rate': 0.1295815997700141, 'max_depth': 1, 'subsample': 0.5328168746127077, 'n_estimators': 693, 'min_child_weight': 3, 'gamma': 0.5699342507112768, 'colsample_bytree': 0.7925019468068861}\n",
      "39\n",
      "-----------------------------------------\n",
      "40\n",
      "-----------------------------------------\n",
      "41\n",
      "-----------------------------------------\n",
      "42\n",
      "-----------------------------------------\n",
      "43\n",
      "-----------------------------------------\n",
      "44\n",
      "-----------------------------------------\n",
      "45\n",
      "-----------------------------------------\n",
      "46\n",
      "-----------------------------------------\n",
      "47\n",
      "-----------------------------------------\n",
      "48\n",
      "-----------------------------------------\n",
      "49\n",
      "-----------------------------------------\n",
      "50\n",
      "-----------------------------------------\n",
      "CPU times: user 1h 44min 12s, sys: 40.7 s, total: 1h 44min 53s\n",
      "Wall time: 27min 13s\n"
     ]
    }
   ],
   "source": [
    "%%time\n",
    "#пр-во пар-ов, на котором будет происходить оптимизация\n",
    "space = {\n",
    "             'n_estimators' : hp.choice('n_estimators', range(100, 1000)),\n",
    "             'learning_rate' : hp.uniform('learning_rate', 0.025, 1.0,),\n",
    "             'max_depth' : hp.choice('max_depth', range(1, 20)), \n",
    "             'min_child_weight' : hp.choice('min_child_weight', range(1, 6)),\n",
    "             'subsample' : hp.uniform('subsample', 0.5, 1.),\n",
    "             'gamma' : hp.uniform('gamma', 0.5, 1.),\n",
    "             'colsample_bytree' : hp.uniform('colsample_bytree', 0.5, 1),\n",
    "#             \"reg_lambda\": hp.uniform(\"reg_lambda\", 0.01, 20.0),\n",
    "#            \"seed\": hp.choice(\"seed\", range(1, 701, 100))             \n",
    "        }\n",
    "\n",
    "#Переменная, хранящая лучшее значение log-loss\n",
    "best = 10000000000000 #здесь может быть любое достаточно большое положит число\n",
    "\n",
    "i = 0\n",
    "#оптимизируемая функция\n",
    "def f(params):\n",
    "    global best #используется зн-е глобальной переменной best\n",
    "    global i\n",
    "    \n",
    "    #классификатор\n",
    "    xgb = XGBClassifier(**params)\n",
    "    \n",
    "    #ср абсолютное зн-е log-loss на кросс-валидации\n",
    "    log_loss_mean = abs(np.mean(cross_val_score(xgb, X_train, y_train, scoring=\"neg_log_loss\", cv = kf)))\n",
    "    \n",
    "    if log_loss_mean < best:\n",
    "        best = log_loss_mean\n",
    "        print('new best:', best, params)\n",
    "    \n",
    "    i+=1\n",
    "    print(i)\n",
    "    print(\"-----------------------------------------\")\n",
    "    return {'loss': log_loss_mean, 'status': STATUS_OK} \n",
    "\n",
    "#генератор испытаний\n",
    "trials = Trials()\n",
    "\n",
    "#ищем гиперпар-ры для xgboost, доставляющие мин функции f(params)\n",
    "best = fmin(f, space, algo=tpe.suggest, max_evals=50, trials=trials)\n"
   ]
  },
  {
   "cell_type": "code",
   "execution_count": 9,
   "metadata": {
    "collapsed": true
   },
   "outputs": [],
   "source": [
    "#лучшие гиперпараметры, найденные hyperopt\n",
    "params = {'learning_rate': 0.1295815997700141,\\\n",
    "          'max_depth': 1, 'subsample': 0.5328168746127077,\\\n",
    "          'n_estimators': 693, 'min_child_weight': 3,\\\n",
    "          'gamma': 0.5699342507112768,\\\n",
    "          'colsample_bytree': 0.7925019468068861}"
   ]
  },
  {
   "cell_type": "code",
   "execution_count": 10,
   "metadata": {
    "collapsed": false
   },
   "outputs": [],
   "source": [
    "xgb = XGBClassifier(**params)"
   ]
  },
  {
   "cell_type": "code",
   "execution_count": 11,
   "metadata": {
    "collapsed": false
   },
   "outputs": [
    {
     "data": {
      "text/plain": [
       "0.38371602040847941"
      ]
     },
     "execution_count": 11,
     "metadata": {},
     "output_type": "execute_result"
    }
   ],
   "source": [
    "-1*np.mean(cross_val_score(xgb, X_train, y_train, scoring=\"neg_log_loss\", cv = kf))"
   ]
  },
  {
   "cell_type": "markdown",
   "metadata": {},
   "source": [
    "### 2. Тип суррогата: SMAC (Sequential Model-based Algorithm Configuration)"
   ]
  },
  {
   "cell_type": "code",
   "execution_count": 12,
   "metadata": {
    "collapsed": true
   },
   "outputs": [],
   "source": [
    "def xgb_from_cfg(cfg, seed):\n",
    "    \n",
    "    xgb = XGBClassifier(\n",
    "        n_estimators=cfg[\"num_trees\"],\n",
    "        learning_rate=cfg[\"learning_rate\"],\n",
    "        max_depth=cfg[\"max_depth\"],\n",
    "        min_child_weight=cfg[\"min_child_weight\"],\n",
    "        subsample=cfg[\"subsample\"],\n",
    "        gamma=cfg[\"gamma\"],\n",
    "        colsample_bytree=cfg[\"colsample_bytree\"],\n",
    "        seed=seed)\n",
    "         \n",
    "    kf = StratifiedKFold(n_splits = 5, shuffle = True, random_state = 241) #для кросс-валидации\n",
    "    return -1 * np.mean(cross_val_score(xgb, X_train, y_train, scoring=\"neg_log_loss\", cv = kf))  # Because cross_validation sign-flips the score"
   ]
  },
  {
   "cell_type": "code",
   "execution_count": 13,
   "metadata": {
    "collapsed": false
   },
   "outputs": [
    {
     "name": "stderr",
     "output_type": "stream",
     "text": [
      "INFO:XGB-example:Running XGB example for SMAC. If you experience difficulties, try to decrease the memory-limit.\n"
     ]
    }
   ],
   "source": [
    "logger = logging.getLogger(\"XGB-example\")\n",
    "logging.basicConfig(level=logging.INFO)\n",
    "logger.info(\"Running XGB example for SMAC. If you experience \"\n",
    "            \"difficulties, try to decrease the memory-limit.\")\n",
    "\n",
    "# Build Configuration Space which defines all parameters and their ranges.\n",
    "# To illustrate different parameter types,\n",
    "# we use continuous, integer and categorical parameters.\n",
    "cs = ConfigurationSpace()"
   ]
  },
  {
   "cell_type": "code",
   "execution_count": 14,
   "metadata": {
    "collapsed": false
   },
   "outputs": [],
   "source": [
    "#defining of hyperparams space\n",
    "num_trees = UniformIntegerHyperparameter(\"num_trees\",100,1000,default=100) \n",
    "learning_rate = UniformFloatHyperparameter(\"learning_rate\",0.025,1.,default=0.025)\n",
    "max_depth = UniformIntegerHyperparameter(\"max_depth\",1,20,default=1)\n",
    "min_child_weight = UniformIntegerHyperparameter(\"min_child_weight\",1,6,default=1)\n",
    "subsample = UniformFloatHyperparameter(\"subsample\",0.5,1.,default=0.5)\n",
    "gamma = UniformFloatHyperparameter(\"gamma\",0.5,1.,default=0.5)\n",
    "colsample_bytree=UniformFloatHyperparameter(\"colsample_bytree\",0.5,1.,default=0.5)\n",
    "reg_lambda = UniformFloatHyperparameter(\"reg_lambda\", 0.01, 20.0,default=0.01),"
   ]
  },
  {
   "cell_type": "code",
   "execution_count": 15,
   "metadata": {
    "collapsed": false
   },
   "outputs": [
    {
     "data": {
      "text/plain": [
       "[num_trees, Type: UniformInteger, Range: [100, 1000], Default: 100,\n",
       " learning_rate, Type: UniformFloat, Range: [0.025, 1.0], Default: 0.025000000000000001,\n",
       " max_depth, Type: UniformInteger, Range: [1, 20], Default: 1,\n",
       " min_child_weight, Type: UniformInteger, Range: [1, 6], Default: 1,\n",
       " subsample, Type: UniformFloat, Range: [0.5, 1.0], Default: 0.5,\n",
       " gamma, Type: UniformFloat, Range: [0.5, 1.0], Default: 0.5,\n",
       " colsample_bytree, Type: UniformFloat, Range: [0.5, 1.0], Default: 0.5]"
      ]
     },
     "execution_count": 15,
     "metadata": {},
     "output_type": "execute_result"
    }
   ],
   "source": [
    "cs.add_hyperparameters([num_trees, learning_rate, max_depth,\\\n",
    "                        min_child_weight, subsample, gamma, colsample_bytree])"
   ]
  },
  {
   "cell_type": "code",
   "execution_count": 16,
   "metadata": {
    "collapsed": false
   },
   "outputs": [
    {
     "name": "stderr",
     "output_type": "stream",
     "text": [
      "INFO:smac.scenario.scenario.Scenario:Output to smac3-output_2017-09-15_17:55:24_(191889)\n"
     ]
    }
   ],
   "source": [
    "# SMAC scenario oject\n",
    "scenario = Scenario({\"run_obj\": \"quality\",   # we optimize quality (alternative runtime)\n",
    "                     \"runcount-limit\": 50,  # maximum number of function evaluations\n",
    "                     \"cs\": cs,               # configuration space\n",
    "                     \"deterministic\": \"true\",\n",
    "                     \"memory_limit\": 2000,   # adapt this to reasonable value for your hardware\n",
    "                     })"
   ]
  },
  {
   "cell_type": "code",
   "execution_count": 17,
   "metadata": {
    "collapsed": false
   },
   "outputs": [],
   "source": [
    "# To optimize, we pass the function to the SMAC-object\n",
    "smac = SMAC(scenario=scenario, rng=np.random.seed(0),\n",
    "            tae_runner=xgb_from_cfg)"
   ]
  },
  {
   "cell_type": "code",
   "execution_count": 18,
   "metadata": {
    "collapsed": false
   },
   "outputs": [
    {
     "name": "stdout",
     "output_type": "stream",
     "text": [
      "Value for default configuration: 0.41\n"
     ]
    }
   ],
   "source": [
    "# Example call of the function with default values\n",
    "# It returns: Status, Cost, Runtime, Additional Infos\n",
    "def_value = smac.get_tae_runner().run(cs.get_default_configuration(), 1)[1]\n",
    "print(\"Value for default configuration: %.2f\" % (def_value))\n"
   ]
  },
  {
   "cell_type": "code",
   "execution_count": 19,
   "metadata": {
    "collapsed": false
   },
   "outputs": [
    {
     "name": "stderr",
     "output_type": "stream",
     "text": [
      "INFO:smac.intensification.intensification.Intensifier:Challenger (0.3986) is better than incumbent (0.4080) on 1 runs.\n",
      "INFO:smac.intensification.intensification.Intensifier:Changes in incumbent:\n",
      "INFO:smac.intensification.intensification.Intensifier:  colsample_bytree : 0.5 -> 0.6699848504576715\n",
      "INFO:smac.intensification.intensification.Intensifier:  gamma : 0.5 -> 0.8663036117676315\n",
      "INFO:smac.intensification.intensification.Intensifier:  learning_rate : 0.025 -> 0.8496658980498933\n",
      "INFO:smac.intensification.intensification.Intensifier:  max_depth : 1 -> 2\n",
      "INFO:smac.intensification.intensification.Intensifier:  min_child_weight : 1 -> 2\n",
      "INFO:smac.intensification.intensification.Intensifier:  num_trees : 100 -> 118\n",
      "INFO:smac.intensification.intensification.Intensifier:  subsample : 0.5 -> 0.6552715554923843\n",
      "INFO:smac.intensification.intensification.Intensifier:Updated estimated cost of incumbent on 1 runs: 0.3986\n",
      "INFO:smac.intensification.intensification.Intensifier:Challenger (0.3848) is better than incumbent (0.3986) on 1 runs.\n",
      "INFO:smac.intensification.intensification.Intensifier:Changes in incumbent:\n",
      "INFO:smac.intensification.intensification.Intensifier:  colsample_bytree : 0.6699848504576715 -> 0.7737607339876549\n",
      "INFO:smac.intensification.intensification.Intensifier:  gamma : 0.8663036117676315 -> 0.999081178446499\n",
      "INFO:smac.intensification.intensification.Intensifier:  learning_rate : 0.8496658980498933 -> 0.18872405415104496\n",
      "INFO:smac.intensification.intensification.Intensifier:  min_child_weight : 2 -> 1\n",
      "INFO:smac.intensification.intensification.Intensifier:  num_trees : 118 -> 365\n",
      "INFO:smac.intensification.intensification.Intensifier:  subsample : 0.6552715554923843 -> 0.60051006729519\n",
      "INFO:smac.intensification.intensification.Intensifier:Updated estimated cost of incumbent on 1 runs: 0.3848\n",
      "INFO:smac.intensification.intensification.Intensifier:Updated estimated cost of incumbent on 1 runs: 0.3848\n",
      "INFO:smac.intensification.intensification.Intensifier:Updated estimated cost of incumbent on 1 runs: 0.3848\n",
      "INFO:smac.intensification.intensification.Intensifier:Challenger (0.3835) is better than incumbent (0.3848) on 1 runs.\n",
      "INFO:smac.intensification.intensification.Intensifier:Changes in incumbent:\n",
      "INFO:smac.intensification.intensification.Intensifier:  colsample_bytree : 0.7737607339876549 -> 0.597294316367996\n",
      "INFO:smac.intensification.intensification.Intensifier:  gamma : 0.999081178446499 -> 0.872345979468649\n",
      "INFO:smac.intensification.intensification.Intensifier:  learning_rate : 0.18872405415104496 -> 0.10797678097278995\n",
      "INFO:smac.intensification.intensification.Intensifier:  max_depth : 2 -> 1\n",
      "INFO:smac.intensification.intensification.Intensifier:  num_trees : 365 -> 711\n",
      "INFO:smac.intensification.intensification.Intensifier:  subsample : 0.60051006729519 -> 0.6636531251821975\n",
      "INFO:smac.intensification.intensification.Intensifier:Updated estimated cost of incumbent on 1 runs: 0.3835\n",
      "INFO:smac.intensification.intensification.Intensifier:Updated estimated cost of incumbent on 1 runs: 0.3835\n",
      "INFO:smac.intensification.intensification.Intensifier:Updated estimated cost of incumbent on 1 runs: 0.3835\n",
      "INFO:smac.intensification.intensification.Intensifier:Updated estimated cost of incumbent on 1 runs: 0.3835\n",
      "INFO:smac.intensification.intensification.Intensifier:Updated estimated cost of incumbent on 1 runs: 0.3835\n",
      "INFO:smac.intensification.intensification.Intensifier:Updated estimated cost of incumbent on 1 runs: 0.3835\n",
      "INFO:smac.intensification.intensification.Intensifier:Updated estimated cost of incumbent on 1 runs: 0.3835\n",
      "INFO:smac.intensification.intensification.Intensifier:Updated estimated cost of incumbent on 1 runs: 0.3835\n",
      "INFO:smac.intensification.intensification.Intensifier:Updated estimated cost of incumbent on 1 runs: 0.3835\n",
      "INFO:smac.intensification.intensification.Intensifier:Updated estimated cost of incumbent on 1 runs: 0.3835\n",
      "INFO:smac.intensification.intensification.Intensifier:Updated estimated cost of incumbent on 1 runs: 0.3835\n",
      "INFO:smac.intensification.intensification.Intensifier:Updated estimated cost of incumbent on 1 runs: 0.3835\n",
      "INFO:smac.intensification.intensification.Intensifier:Updated estimated cost of incumbent on 1 runs: 0.3835\n",
      "INFO:smac.intensification.intensification.Intensifier:Updated estimated cost of incumbent on 1 runs: 0.3835\n",
      "INFO:smac.intensification.intensification.Intensifier:Updated estimated cost of incumbent on 1 runs: 0.3835\n",
      "INFO:smac.intensification.intensification.Intensifier:Updated estimated cost of incumbent on 1 runs: 0.3835\n",
      "INFO:smac.intensification.intensification.Intensifier:Updated estimated cost of incumbent on 1 runs: 0.3835\n",
      "INFO:smac.intensification.intensification.Intensifier:Updated estimated cost of incumbent on 1 runs: 0.3835\n",
      "INFO:smac.intensification.intensification.Intensifier:Updated estimated cost of incumbent on 1 runs: 0.3835\n",
      "INFO:smac.intensification.intensification.Intensifier:Updated estimated cost of incumbent on 1 runs: 0.3835\n",
      "INFO:smac.stats.stats.Stats:##########################################################\n",
      "INFO:smac.stats.stats.Stats:Statistics:\n",
      "INFO:smac.stats.stats.Stats:#Incumbent changed: 3\n",
      "INFO:smac.stats.stats.Stats:#Target algorithm runs: 50 / 50.0\n",
      "INFO:smac.stats.stats.Stats:Used wallclock time: 1304.28 / inf sec \n",
      "INFO:smac.stats.stats.Stats:Used target algorithm runtime: 1298.21 / inf sec\n",
      "INFO:smac.stats.stats.Stats:##########################################################\n",
      "INFO:smac.facade.smac_facade.SMAC:Final Incumbent: Configuration:\n",
      "  colsample_bytree, Value: 0.597294316367996\n",
      "  gamma, Value: 0.872345979468649\n",
      "  learning_rate, Value: 0.10797678097278995\n",
      "  max_depth, Value: 1\n",
      "  min_child_weight, Value: 1\n",
      "  num_trees, Value: 711\n",
      "  subsample, Value: 0.6636531251821975\n",
      "\n"
     ]
    },
    {
     "name": "stdout",
     "output_type": "stream",
     "text": [
      "Optimized Value: 0.38\n",
      "CPU times: user 4.1 s, sys: 492 ms, total: 4.59 s\n",
      "Wall time: 21min 54s\n"
     ]
    }
   ],
   "source": [
    "%%time\n",
    "# Start optimization\n",
    "try:\n",
    "    incumbent = smac.optimize()\n",
    "finally:\n",
    "    incumbent = smac.solver.incumbent\n",
    "\n",
    "inc_value = smac.get_tae_runner().run(incumbent, 1)[1]\n",
    "print(\"Optimized Value: %.2f\" % (inc_value))"
   ]
  },
  {
   "cell_type": "code",
   "execution_count": 12,
   "metadata": {
    "collapsed": false
   },
   "outputs": [],
   "source": [
    "#лучшие гиперпараметры, найденные SMAC \n",
    "xgb = XGBClassifier(**{\"colsample_bytree\": 0.597294316367996,\n",
    "  \"gamma\": 0.872345979468649,\n",
    "  \"learning_rate\": 0.10797678097278995,\n",
    "  \"max_depth\": 1,\n",
    "  \"min_child_weight\": 1,\n",
    "  \"n_estimators\": 711,\n",
    "  \"subsample\": 0.6636531251821975})"
   ]
  },
  {
   "cell_type": "code",
   "execution_count": 13,
   "metadata": {
    "collapsed": false
   },
   "outputs": [
    {
     "data": {
      "text/plain": [
       "-0.38351816420657026"
      ]
     },
     "execution_count": 13,
     "metadata": {},
     "output_type": "execute_result"
    }
   ],
   "source": [
    "np.mean(cross_val_score(xgb, X_train, y_train, scoring=\"neg_log_loss\", cv = kf))"
   ]
  },
  {
   "cell_type": "markdown",
   "metadata": {
    "collapsed": true
   },
   "source": [
    "###  3. Тип суррогата: гаусовский процесс"
   ]
  },
  {
   "cell_type": "code",
   "execution_count": 14,
   "metadata": {
    "collapsed": true
   },
   "outputs": [],
   "source": [
    "from bayes_opt import BayesianOptimization"
   ]
  },
  {
   "cell_type": "code",
   "execution_count": 18,
   "metadata": {
    "collapsed": true
   },
   "outputs": [],
   "source": [
    "def xgb_for_bayes( \n",
    "                    max_depth,\n",
    "                    learning_rate,\n",
    "                    n_estimators,  \n",
    "                    gamma,\n",
    "                    subsample,\n",
    "                    colsample_bytree,\n",
    "                    min_child_weight):\n",
    "    \n",
    "    xgb = XGBClassifier(max_depth=int(max_depth),\n",
    "                    learning_rate=learning_rate,\n",
    "                    n_estimators=int(n_estimators), \n",
    "                    gamma=gamma,\n",
    "                    min_child_weight=int(min_child_weight),\n",
    "                    subsample=subsample,\n",
    "                    colsample_bytree=colsample_bytree,\n",
    "                    seed=0)\n",
    "    \n",
    "    score = cross_val_score(xgb, X_train, y_train, scoring=\"neg_log_loss\", cv=kf)\n",
    "    return np.mean(score)"
   ]
  },
  {
   "cell_type": "code",
   "execution_count": 19,
   "metadata": {
    "collapsed": false
   },
   "outputs": [
    {
     "name": "stdout",
     "output_type": "stream",
     "text": [
      "\u001b[31mInitialization\u001b[0m\n",
      "\u001b[94m--------------------------------------------------------------------------------------------------------------------------------------------------\u001b[0m\n",
      " Step |   Time |      Value |   colsample_bytree |     gamma |   learning_rate |   max_depth |   min_child_weight |   n_estimators |   subsample | \n",
      "    1 | 00m24s | \u001b[35m  -0.70771\u001b[0m | \u001b[32m            0.5099\u001b[0m | \u001b[32m   0.6633\u001b[0m | \u001b[32m         0.9058\u001b[0m | \u001b[32m    17.7828\u001b[0m | \u001b[32m            1.5737\u001b[0m | \u001b[32m      255.1065\u001b[0m | \u001b[32m     0.7929\u001b[0m | \n",
      "    2 | 00m14s | \u001b[35m  -0.41558\u001b[0m | \u001b[32m            0.5131\u001b[0m | \u001b[32m   0.7635\u001b[0m | \u001b[32m         0.1590\u001b[0m | \u001b[32m    12.8498\u001b[0m | \u001b[32m            5.7474\u001b[0m | \u001b[32m      223.4222\u001b[0m | \u001b[32m     0.9848\u001b[0m | \n",
      "    3 | 01m21s |   -0.49916 |             0.5142 |    0.9430 |          0.1608 |     15.2679 |             3.2496 |       939.3359 |      0.7805 | \n",
      "    4 | 00m34s |   -0.98691 |             0.6231 |    0.6786 |          0.8122 |      7.6291 |             3.8919 |       727.1363 |      0.5093 | \n",
      "    5 | 00m07s |   -0.43406 |             0.9300 |    0.9543 |          0.4127 |      6.1286 |             3.0407 |       159.4002 |      0.9003 | \n",
      "    6 | 01m36s |   -0.54127 |             0.7694 |    0.8117 |          0.1862 |     18.0218 |             2.1851 |       779.9167 |      0.6165 | \n",
      "    7 | 00m49s |   -0.71658 |             0.7764 |    0.5079 |          0.9293 |      9.1337 |             5.5169 |       778.4886 |      0.9036 | \n",
      "    8 | 02m00s |   -0.59383 |             0.9210 |    0.9647 |          0.3641 |     19.3320 |             3.8684 |       930.7221 |      0.6939 | \n",
      "    9 | 00m54s |   -0.59601 |             0.5621 |    0.8454 |          0.7570 |     13.6054 |             1.0144 |       740.3723 |      0.9318 | \n",
      "   10 | 00m15s |   -0.59493 |             0.6396 |    0.9987 |          0.7328 |     12.8122 |             4.0857 |       211.8439 |      0.8736 | \n",
      "\u001b[31mBayesian Optimization\u001b[0m\n",
      "\u001b[94m--------------------------------------------------------------------------------------------------------------------------------------------------\u001b[0m\n",
      " Step |   Time |      Value |   colsample_bytree |     gamma |   learning_rate |   max_depth |   min_child_weight |   n_estimators |   subsample | \n",
      "   11 | 00m53s | \u001b[35m  -0.39749\u001b[0m | \u001b[32m            0.5000\u001b[0m | \u001b[32m   1.0000\u001b[0m | \u001b[32m         0.0250\u001b[0m | \u001b[32m    20.0000\u001b[0m | \u001b[32m            6.0000\u001b[0m | \u001b[32m      481.3200\u001b[0m | \u001b[32m     1.0000\u001b[0m | \n",
      "   12 | 00m07s | \u001b[35m  -0.38548\u001b[0m | \u001b[32m            1.0000\u001b[0m | \u001b[32m   0.5000\u001b[0m | \u001b[32m         0.0250\u001b[0m | \u001b[32m     1.0000\u001b[0m | \u001b[32m            6.0000\u001b[0m | \u001b[32m      380.6744\u001b[0m | \u001b[32m     1.0000\u001b[0m | \n",
      "   13 | 01m37s |   -0.42141 |             1.0000 |    1.0000 |          0.0250 |     20.0000 |             1.0000 |       585.5107 |      1.0000 | \n",
      "   14 | 00m12s |   -0.39247 |             0.5000 |    0.5000 |          0.0250 |     20.0000 |             6.0000 |       100.0000 |      1.0000 | \n",
      "   15 | 00m19s |   -0.39884 |             1.0000 |    0.5000 |          1.0000 |      1.0000 |             1.0000 |      1000.0000 |      0.5000 | \n",
      "   16 | 00m12s |   -0.39484 |             1.0000 |    0.5000 |          1.0000 |      1.0000 |             1.0000 |       533.3086 |      0.5000 | \n",
      "   17 | 00m14s |   -0.39337 |             1.0000 |    0.5000 |          1.0000 |      1.0000 |             1.0000 |       434.0410 |      0.5000 | \n",
      "   18 | 00m13s | \u001b[35m  -0.38450\u001b[0m | \u001b[32m            0.5000\u001b[0m | \u001b[32m   1.0000\u001b[0m | \u001b[32m         0.0250\u001b[0m | \u001b[32m     1.0000\u001b[0m | \u001b[32m            1.0000\u001b[0m | \u001b[32m      859.2378\u001b[0m | \u001b[32m     1.0000\u001b[0m | \n",
      "   19 | 00m08s |   -0.38633 |             0.5000 |    0.5000 |          0.0250 |      1.0000 |             6.0000 |       323.1330 |      1.0000 | \n",
      "   20 | 01m10s |   -0.61614 |             0.5000 |    1.0000 |          1.0000 |     20.0000 |             1.0000 |       641.8651 |      1.0000 | \n",
      "   21 | 00m07s |   -0.38573 |             0.5000 |    0.5000 |          1.0000 |      1.0000 |             1.0000 |       100.0000 |      1.0000 | \n",
      "   22 | 00m37s |   -1.17793 |             0.5000 |    1.0000 |          1.0000 |     20.0000 |             1.0000 |       353.4812 |      0.5000 | \n",
      "   23 | 02m12s |   -0.58243 |             1.0000 |    1.0000 |          1.0000 |     20.0000 |             1.0000 |       832.0918 |      1.0000 | \n",
      "   24 | 00m11s |   -0.38531 |             0.5000 |    0.5000 |          1.0000 |      1.0000 |             6.0000 |       605.2709 |      1.0000 | \n",
      "   25 | 01m40s |   -0.40503 |             0.5000 |    1.0000 |          0.0250 |     20.0000 |             6.0000 |      1000.0000 |      1.0000 | \n",
      "   26 | 00m12s |   -0.38504 |             1.0000 |    0.5000 |          0.0250 |      1.0000 |             6.0000 |       487.7707 |      1.0000 | \n",
      "   27 | 00m11s |   -0.38765 |             1.0000 |    0.5000 |          0.0250 |      1.0000 |             6.0000 |       240.6873 |      1.0000 | \n",
      "   28 | 00m16s | \u001b[35m  -0.38446\u001b[0m | \u001b[32m            0.5000\u001b[0m | \u001b[32m   0.5000\u001b[0m | \u001b[32m         0.0250\u001b[0m | \u001b[32m     1.0000\u001b[0m | \u001b[32m            1.0000\u001b[0m | \u001b[32m      898.0612\u001b[0m | \u001b[32m     1.0000\u001b[0m | \n",
      "   29 | 00m11s |   -0.39852 |             0.5000 |    1.0000 |          0.0250 |      1.0000 |             6.0000 |       129.2837 |      0.5000 | \n",
      "   30 | 00m20s | \u001b[35m  -0.38428\u001b[0m | \u001b[32m            1.0000\u001b[0m | \u001b[32m   1.0000\u001b[0m | \u001b[32m         0.0250\u001b[0m | \u001b[32m     1.0000\u001b[0m | \u001b[32m            6.0000\u001b[0m | \u001b[32m      968.5854\u001b[0m | \u001b[32m     1.0000\u001b[0m | \n",
      "   31 | 01m01s |   -0.39971 |             0.5000 |    0.5000 |          0.0250 |     20.0000 |             6.0000 |       521.5327 |      1.0000 | \n",
      "   32 | 00m17s |   -0.38508 |             0.5000 |    1.0000 |          0.0250 |      1.0000 |             6.0000 |       566.4723 |      1.0000 | \n",
      "   33 | 00m16s |   -0.38679 |             0.5000 |    0.5000 |          0.0250 |      1.0000 |             6.0000 |       291.4695 |      1.0000 | \n",
      "   34 | 01m17s |   -1.30914 |             0.5000 |    0.5000 |          1.0000 |     20.0000 |             1.0000 |       874.9855 |      0.5000 | \n",
      "   35 | 00m19s | \u001b[35m  -0.38396\u001b[0m | \u001b[32m            0.5000\u001b[0m | \u001b[32m   1.0000\u001b[0m | \u001b[32m         0.0250\u001b[0m | \u001b[32m     1.0000\u001b[0m | \u001b[32m            1.0000\u001b[0m | \u001b[32m      821.8715\u001b[0m | \u001b[32m     0.5000\u001b[0m | \n",
      "   36 | 00m20s |   -0.38501 |             1.0000 |    1.0000 |          1.0000 |      1.0000 |             6.0000 |       927.0192 |      1.0000 | \n",
      "   37 | 00m49s |   -0.39753 |             0.5000 |    0.5000 |          0.0250 |     20.0000 |             6.0000 |       415.8812 |      1.0000 | \n",
      "   38 | 00m15s |   -0.38576 |             0.5000 |    1.0000 |          0.0250 |      1.0000 |             6.0000 |       407.2726 |      1.0000 | \n",
      "   39 | 00m33s |   -0.60847 |             1.0000 |    0.5000 |          1.0000 |     20.0000 |             1.0000 |       137.0227 |      1.0000 | \n",
      "   40 | 01m16s |   -0.40437 |             1.0000 |    0.5000 |          0.0250 |     20.0000 |             6.0000 |       449.9479 |      1.0000 | \n",
      "   41 | 00m44s |   -1.42703 |             0.5000 |    1.0000 |          1.0000 |     20.0000 |             6.0000 |       551.9106 |      0.5000 | \n",
      "   42 | 00m14s |   -0.38527 |             0.5000 |    1.0000 |          0.0250 |      1.0000 |             1.0000 |       510.1750 |      1.0000 | \n",
      "   43 | 00m15s |   -0.38482 |             1.0000 |    0.5000 |          0.0250 |      1.0000 |             1.0000 |       585.7422 |      1.0000 | \n",
      "   44 | 01m56s |   -0.43442 |             1.0000 |    0.5000 |          0.0250 |     20.0000 |             1.0000 |       611.4689 |      1.0000 | \n",
      "   45 | 01m58s |   -0.42141 |             1.0000 |    1.0000 |          0.0250 |     20.0000 |             1.0000 |       682.3509 |      1.0000 | \n",
      "   46 | 00m15s |   -0.38470 |             1.0000 |    0.5000 |          0.0250 |      1.0000 |             6.0000 |       664.9839 |      1.0000 | \n",
      "   47 | 02m19s |   -1.30174 |             1.0000 |    0.5000 |          1.0000 |     20.0000 |             1.0000 |       973.7481 |      0.5000 | \n",
      "   48 | 01m05s |   -0.40114 |             1.0000 |    0.5000 |          0.0250 |     20.0000 |             6.0000 |       303.7557 |      1.0000 | \n",
      "   49 | 00m18s |   -0.38516 |             0.5000 |    1.0000 |          0.0250 |      1.0000 |             1.0000 |       462.5747 |      0.5000 | \n",
      "   50 | 00m12s |   -0.39072 |             0.5000 |    0.5000 |          0.0250 |      1.0000 |             6.0000 |       184.4809 |      0.5000 | \n",
      "   51 | 00m25s |   -0.38547 |             0.5000 |    0.5000 |          0.0250 |     20.0000 |             6.0000 |       176.8418 |      0.5000 | \n",
      "   52 | 00m22s |   -0.39663 |             1.0000 |    0.5000 |          1.0000 |      1.0000 |             6.0000 |       840.5998 |      0.5000 | \n",
      "   53 | 00m19s |   -0.38423 |             1.0000 |    1.0000 |          0.0250 |      1.0000 |             1.0000 |       632.5431 |      0.5000 | \n",
      "   54 | 01m05s |   -1.25266 |             1.0000 |    0.5000 |          1.0000 |     20.0000 |             1.0000 |       502.6874 |      0.5000 | \n",
      "   55 | 02m24s |   -0.64300 |             1.0000 |    0.5000 |          1.0000 |     20.0000 |             6.0000 |       805.8768 |      1.0000 | \n",
      "   56 | 00m14s |   -0.38523 |             0.5000 |    1.0000 |          0.0250 |      1.0000 |             6.0000 |       521.5813 |      1.0000 | \n",
      "   57 | 00m19s |   -0.38520 |             1.0000 |    1.0000 |          1.0000 |      1.0000 |             1.0000 |       688.8163 |      1.0000 | \n",
      "   58 | 00m44s |   -1.24206 |             0.5000 |    0.5000 |          1.0000 |     20.0000 |             1.0000 |       393.0886 |      0.5000 | \n",
      "   59 | 00m20s |   -0.38439 |             0.5000 |    0.5000 |          0.0250 |      1.0000 |             1.0000 |       948.0279 |      1.0000 | \n",
      "   60 | 01m01s |   -1.43406 |             0.5000 |    0.5000 |          1.0000 |     20.0000 |             6.0000 |       757.9048 |      0.5000 | \n",
      "CPU times: user 2h 27min 1s, sys: 13min 31s, total: 2h 40min 32s\n",
      "Wall time: 42min 40s\n"
     ]
    }
   ],
   "source": [
    "%%time\n",
    "num_iter = 50 #число итераций\n",
    "init_points = 10 #число начальных точек\n",
    "\n",
    "#defining of hyperparams space\n",
    "xgb_BO = BayesianOptimization(xgb_for_bayes, \n",
    "                              {\n",
    "                                \"max_depth\": (1, 20),\n",
    "                                \"learning_rate\": (0.025, 1.0),\n",
    "                                \"n_estimators\": (100, 1000),\n",
    "                                \"gamma\": (0.5, 1.),\n",
    "                                \"subsample\": (0.5, 1.),\n",
    "                                \"colsample_bytree\": (0.5, 1.),\n",
    "                                \"min_child_weight\": (1,6)\n",
    "                              }\n",
    "                             )\n",
    "\n",
    "xgb_BO.maximize(init_points=init_points, n_iter=num_iter)"
   ]
  },
  {
   "cell_type": "markdown",
   "metadata": {
    "collapsed": true
   },
   "source": [
    "# Таким образом, по времени вычислений и качеству оптимизации оптимизаторы заняли следующие места:\n",
    "\n",
    "## 1. [SMAC](https://github.com/automl/SMAC3)\n",
    "## 2. [TPE estimator](https://github.com/hyperopt/hyperopt)\n",
    "## 3. [Gaussian process](https://github.com/fmfn/BayesianOptimization)"
   ]
  },
  {
   "cell_type": "code",
   "execution_count": null,
   "metadata": {
    "collapsed": true
   },
   "outputs": [],
   "source": []
  }
 ],
 "metadata": {
  "kernelspec": {
   "display_name": "Python [conda root]",
   "language": "python",
   "name": "conda-root-py"
  },
  "language_info": {
   "codemirror_mode": {
    "name": "ipython",
    "version": 3
   },
   "file_extension": ".py",
   "mimetype": "text/x-python",
   "name": "python",
   "nbconvert_exporter": "python",
   "pygments_lexer": "ipython3",
   "version": "3.5.2"
  }
 },
 "nbformat": 4,
 "nbformat_minor": 2
}
